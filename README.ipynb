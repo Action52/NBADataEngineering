{
 "cells": [
  {
   "cell_type": "markdown",
   "id": "7c662e7f",
   "metadata": {},
   "source": [
    "# NBADataEngineering\n",
    "Capstone project for the Udacity Data Engineering Nanodegree. In this project, we perform an ETL process on a set of NBA datasets.  \n",
    "\n",
    "As a huge NBA fan, I'd like to extract and organise some data and insights from my favourite teams\n",
    "and players. I will reorder the csvs in such a way that I can easily query for augmented information that combines the \n",
    "data from the original sources. By doing this, the resulting database will be an excellent example of an Analytics table.\n",
    "The data will be extracted from 5 different csvs: \n",
    "- **historical_nba_performance.csv**  \n",
    "This dataset contains information about team performance per year.\n",
    "- **nba_all_star_games.csv**  \n",
    "This dataset includes information about the players participating in the yearly All-Star games.\n",
    "- **nba_shots_2000_to_2018.csv**\n",
    "This dataset (the biggest one with over 1m rows) shows a detailed description of all the shots made from 2000 to 2018 on every game.\n",
    "- **player_data.csv**  \n",
    "Information about each player.\n",
    "- **players.csv**\n",
    "More informacion about players.  \n",
    "\n",
    "### Installation\n",
    "First things first. To correctly run the project, please install the dependencies on an empty python environment.\n",
    "```\n",
    "# Run this on the project's source folder. I am using conda in this example.\n",
    "conda create --name dec python=3.7 --no-default-packages\n",
    "pip install -e .\n",
    "```\n",
    "\n",
    "\n",
    "### Exploratory Data Analysis"
   ]
  },
  {
   "cell_type": "code",
   "execution_count": 1,
   "id": "1865f48a",
   "metadata": {},
   "outputs": [],
   "source": [
    "import pandas as pd\n",
    "\n",
    "# Setting the chunksize to 100 since we just want to take a first look into the data ;) \n",
    "historical = pd.read_csv(\"data/historical_nba_performance.csv\", chunksize=100).get_chunk()\n",
    "all_star = pd.read_csv(\"data/all_star.csv\", chunksize=100).get_chunk()\n",
    "shots = pd.read_csv(\"data/NBA_Shots_2000_to_2018.csv\", chunksize=100).get_chunk()\n",
    "player_data_1 = pd.read_csv(\"data/player_data.csv\", chunksize=100).get_chunk()\n",
    "player_data_2 = pd.read_csv(\"data/Players.csv\", chunksize=100).get_chunk()"
   ]
  },
  {
   "cell_type": "markdown",
   "id": "4e6bf4d6",
   "metadata": {},
   "source": [
    "#### Historical Teams table"
   ]
  },
  {
   "cell_type": "code",
   "execution_count": 2,
   "id": "b33e75c1",
   "metadata": {},
   "outputs": [
    {
     "data": {
      "text/html": [
       "<div>\n",
       "<style scoped>\n",
       "    .dataframe tbody tr th:only-of-type {\n",
       "        vertical-align: middle;\n",
       "    }\n",
       "\n",
       "    .dataframe tbody tr th {\n",
       "        vertical-align: top;\n",
       "    }\n",
       "\n",
       "    .dataframe thead th {\n",
       "        text-align: right;\n",
       "    }\n",
       "</style>\n",
       "<table border=\"1\" class=\"dataframe\">\n",
       "  <thead>\n",
       "    <tr style=\"text-align: right;\">\n",
       "      <th></th>\n",
       "      <th>year</th>\n",
       "      <th>team</th>\n",
       "      <th>record</th>\n",
       "      <th>winning_percentage</th>\n",
       "    </tr>\n",
       "  </thead>\n",
       "  <tbody>\n",
       "    <tr>\n",
       "      <th>0</th>\n",
       "      <td>2016-17</td>\n",
       "      <td>Celtics</td>\n",
       "      <td>25-15</td>\n",
       "      <td>0.625</td>\n",
       "    </tr>\n",
       "    <tr>\n",
       "      <th>1</th>\n",
       "      <td>2015-16</td>\n",
       "      <td>Celtics</td>\n",
       "      <td>48-34</td>\n",
       "      <td>0.585</td>\n",
       "    </tr>\n",
       "    <tr>\n",
       "      <th>2</th>\n",
       "      <td>2014-15</td>\n",
       "      <td>Celtics</td>\n",
       "      <td>40-42</td>\n",
       "      <td>0.488</td>\n",
       "    </tr>\n",
       "    <tr>\n",
       "      <th>3</th>\n",
       "      <td>2013-14</td>\n",
       "      <td>Celtics</td>\n",
       "      <td>25-57</td>\n",
       "      <td>0.305</td>\n",
       "    </tr>\n",
       "    <tr>\n",
       "      <th>4</th>\n",
       "      <td>2012-13</td>\n",
       "      <td>Celtics</td>\n",
       "      <td>41-40</td>\n",
       "      <td>0.506</td>\n",
       "    </tr>\n",
       "  </tbody>\n",
       "</table>\n",
       "</div>"
      ],
      "text/plain": [
       "      year     team record  winning_percentage\n",
       "0  2016-17  Celtics  25-15               0.625\n",
       "1  2015-16  Celtics  48-34               0.585\n",
       "2  2014-15  Celtics  40-42               0.488\n",
       "3  2013-14  Celtics  25-57               0.305\n",
       "4  2012-13  Celtics  41-40               0.506"
      ]
     },
     "execution_count": 2,
     "metadata": {},
     "output_type": "execute_result"
    }
   ],
   "source": [
    "historical.head()"
   ]
  },
  {
   "cell_type": "markdown",
   "id": "9baac840",
   "metadata": {},
   "source": [
    "Ok, so apparently this csv has 4 columns and a number of unnamed columns that were probably reserved for extra values. The columns are:\n",
    "- Year\n",
    "- Team\n",
    "- Record\n",
    "- Winning Percentage"
   ]
  },
  {
   "cell_type": "markdown",
   "id": "b0441cc7",
   "metadata": {},
   "source": [
    "#### All-Star teams table"
   ]
  },
  {
   "cell_type": "code",
   "execution_count": 3,
   "id": "3592135d",
   "metadata": {},
   "outputs": [
    {
     "data": {
      "text/html": [
       "<div>\n",
       "<style scoped>\n",
       "    .dataframe tbody tr th:only-of-type {\n",
       "        vertical-align: middle;\n",
       "    }\n",
       "\n",
       "    .dataframe tbody tr th {\n",
       "        vertical-align: top;\n",
       "    }\n",
       "\n",
       "    .dataframe thead th {\n",
       "        text-align: right;\n",
       "    }\n",
       "</style>\n",
       "<table border=\"1\" class=\"dataframe\">\n",
       "  <thead>\n",
       "    <tr style=\"text-align: right;\">\n",
       "      <th></th>\n",
       "      <th>year</th>\n",
       "      <th>player</th>\n",
       "      <th>pos</th>\n",
       "      <th>ht</th>\n",
       "      <th>wt</th>\n",
       "      <th>team</th>\n",
       "      <th>selection_type</th>\n",
       "      <th>nba_draft_status</th>\n",
       "      <th>nationality</th>\n",
       "    </tr>\n",
       "  </thead>\n",
       "  <tbody>\n",
       "    <tr>\n",
       "      <th>0</th>\n",
       "      <td>2016.0</td>\n",
       "      <td>Stephen Curry</td>\n",
       "      <td>G</td>\n",
       "      <td>6-3</td>\n",
       "      <td>190.0</td>\n",
       "      <td>Golden State Warriors</td>\n",
       "      <td>Western All-Star Fan Vote Selection</td>\n",
       "      <td>2009 Rnd 1 Pick 7</td>\n",
       "      <td>United States</td>\n",
       "    </tr>\n",
       "    <tr>\n",
       "      <th>1</th>\n",
       "      <td>2016.0</td>\n",
       "      <td>James Harden</td>\n",
       "      <td>SG</td>\n",
       "      <td>6-5</td>\n",
       "      <td>220.0</td>\n",
       "      <td>Houston Rockets</td>\n",
       "      <td>Western All-Star Fan Vote Selection</td>\n",
       "      <td>2009 Rnd 1 Pick 3</td>\n",
       "      <td>United States</td>\n",
       "    </tr>\n",
       "    <tr>\n",
       "      <th>2</th>\n",
       "      <td>2016.0</td>\n",
       "      <td>Kevin Durant</td>\n",
       "      <td>SF</td>\n",
       "      <td>6-9</td>\n",
       "      <td>240.0</td>\n",
       "      <td>Golden State Warriors</td>\n",
       "      <td>Western All-Star Fan Vote Selection</td>\n",
       "      <td>2007 Rnd 1 Pick 2</td>\n",
       "      <td>United States</td>\n",
       "    </tr>\n",
       "    <tr>\n",
       "      <th>3</th>\n",
       "      <td>2016.0</td>\n",
       "      <td>Kawhi Leonard</td>\n",
       "      <td>F</td>\n",
       "      <td>6-7</td>\n",
       "      <td>230.0</td>\n",
       "      <td>San Antonio Spurs</td>\n",
       "      <td>Western All-Star Fan Vote Selection</td>\n",
       "      <td>2011 Rnd 1 Pick 15</td>\n",
       "      <td>United States</td>\n",
       "    </tr>\n",
       "    <tr>\n",
       "      <th>4</th>\n",
       "      <td>2016.0</td>\n",
       "      <td>Anthony Davis</td>\n",
       "      <td>PF</td>\n",
       "      <td>6-11</td>\n",
       "      <td>253.0</td>\n",
       "      <td>New Orleans Pelicans</td>\n",
       "      <td>Western All-Star Fan Vote Selection</td>\n",
       "      <td>2012 Rnd 1 Pick 1</td>\n",
       "      <td>United States</td>\n",
       "    </tr>\n",
       "  </tbody>\n",
       "</table>\n",
       "</div>"
      ],
      "text/plain": [
       "     year         player pos    ht     wt                   team  \\\n",
       "0  2016.0  Stephen Curry   G   6-3  190.0  Golden State Warriors   \n",
       "1  2016.0   James Harden  SG   6-5  220.0        Houston Rockets   \n",
       "2  2016.0   Kevin Durant  SF   6-9  240.0  Golden State Warriors   \n",
       "3  2016.0  Kawhi Leonard   F   6-7  230.0      San Antonio Spurs   \n",
       "4  2016.0  Anthony Davis  PF  6-11  253.0   New Orleans Pelicans   \n",
       "\n",
       "                        selection_type    nba_draft_status    nationality  \n",
       "0  Western All-Star Fan Vote Selection   2009 Rnd 1 Pick 7  United States  \n",
       "1  Western All-Star Fan Vote Selection   2009 Rnd 1 Pick 3  United States  \n",
       "2  Western All-Star Fan Vote Selection   2007 Rnd 1 Pick 2  United States  \n",
       "3  Western All-Star Fan Vote Selection  2011 Rnd 1 Pick 15  United States  \n",
       "4  Western All-Star Fan Vote Selection   2012 Rnd 1 Pick 1  United States  "
      ]
     },
     "execution_count": 3,
     "metadata": {},
     "output_type": "execute_result"
    }
   ],
   "source": [
    "all_star.head()"
   ]
  },
  {
   "cell_type": "code",
   "execution_count": 4,
   "id": "2082d9c1",
   "metadata": {},
   "outputs": [
    {
     "name": "stdout",
     "output_type": "stream",
     "text": [
      "['year', 'player', 'pos', 'ht', 'wt', 'team', 'selection_type', 'nba_draft_status', 'nationality']\n"
     ]
    }
   ],
   "source": [
    "print([col for col in all_star.columns if 'Unnamed' not in col ])"
   ]
  },
  {
   "cell_type": "markdown",
   "id": "2bc0321b",
   "metadata": {},
   "source": [
    "#### Nba Shots"
   ]
  },
  {
   "cell_type": "code",
   "execution_count": 5,
   "id": "e14cba79",
   "metadata": {},
   "outputs": [
    {
     "data": {
      "text/html": [
       "<div>\n",
       "<style scoped>\n",
       "    .dataframe tbody tr th:only-of-type {\n",
       "        vertical-align: middle;\n",
       "    }\n",
       "\n",
       "    .dataframe tbody tr th {\n",
       "        vertical-align: top;\n",
       "    }\n",
       "\n",
       "    .dataframe thead th {\n",
       "        text-align: right;\n",
       "    }\n",
       "</style>\n",
       "<table border=\"1\" class=\"dataframe\">\n",
       "  <thead>\n",
       "    <tr style=\"text-align: right;\">\n",
       "      <th></th>\n",
       "      <th>x</th>\n",
       "      <th>id</th>\n",
       "      <th>player</th>\n",
       "      <th>season</th>\n",
       "      <th>top_px_location</th>\n",
       "      <th>leftpx_location</th>\n",
       "      <th>date</th>\n",
       "      <th>team</th>\n",
       "      <th>opponent</th>\n",
       "      <th>location</th>\n",
       "      <th>quarter</th>\n",
       "      <th>game_clock</th>\n",
       "      <th>outcome_1_if_made_0_otherwise</th>\n",
       "      <th>shotvalue</th>\n",
       "      <th>shotdistance_ft</th>\n",
       "      <th>team_score</th>\n",
       "      <th>opponentscore</th>\n",
       "    </tr>\n",
       "  </thead>\n",
       "  <tbody>\n",
       "    <tr>\n",
       "      <th>0</th>\n",
       "      <td>1</td>\n",
       "      <td>abdulma02</td>\n",
       "      <td>Mahmoud Abdul-Rauf</td>\n",
       "      <td>2001</td>\n",
       "      <td>250</td>\n",
       "      <td>304.0</td>\n",
       "      <td>110600.0</td>\n",
       "      <td>VAN</td>\n",
       "      <td>ATL</td>\n",
       "      <td>HOME</td>\n",
       "      <td>3</td>\n",
       "      <td>00:38.4</td>\n",
       "      <td>0.0</td>\n",
       "      <td>2.0</td>\n",
       "      <td>21.0</td>\n",
       "      <td>69.0</td>\n",
       "      <td>55.0</td>\n",
       "    </tr>\n",
       "    <tr>\n",
       "      <th>1</th>\n",
       "      <td>2</td>\n",
       "      <td>abdulma02</td>\n",
       "      <td>Mahmoud Abdul-Rauf</td>\n",
       "      <td>2001</td>\n",
       "      <td>147</td>\n",
       "      <td>241.0</td>\n",
       "      <td>111800.0</td>\n",
       "      <td>VAN</td>\n",
       "      <td>DAL</td>\n",
       "      <td>HOME</td>\n",
       "      <td>2</td>\n",
       "      <td>9:22</td>\n",
       "      <td>1.0</td>\n",
       "      <td>2.0</td>\n",
       "      <td>10.0</td>\n",
       "      <td>33.0</td>\n",
       "      <td>26.0</td>\n",
       "    </tr>\n",
       "    <tr>\n",
       "      <th>2</th>\n",
       "      <td>3</td>\n",
       "      <td>abdulma02</td>\n",
       "      <td>Mahmoud Abdul-Rauf</td>\n",
       "      <td>2001</td>\n",
       "      <td>132</td>\n",
       "      <td>403.0</td>\n",
       "      <td>112400.0</td>\n",
       "      <td>VAN</td>\n",
       "      <td>DET</td>\n",
       "      <td>AWAY</td>\n",
       "      <td>3</td>\n",
       "      <td>6:42</td>\n",
       "      <td>0.0</td>\n",
       "      <td>2.0</td>\n",
       "      <td>18.0</td>\n",
       "      <td>60.0</td>\n",
       "      <td>78.0</td>\n",
       "    </tr>\n",
       "    <tr>\n",
       "      <th>3</th>\n",
       "      <td>4</td>\n",
       "      <td>abdulma02</td>\n",
       "      <td>Mahmoud Abdul-Rauf</td>\n",
       "      <td>2001</td>\n",
       "      <td>177</td>\n",
       "      <td>129.0</td>\n",
       "      <td>112400.0</td>\n",
       "      <td>VAN</td>\n",
       "      <td>DET</td>\n",
       "      <td>AWAY</td>\n",
       "      <td>3</td>\n",
       "      <td>2:42</td>\n",
       "      <td>0.0</td>\n",
       "      <td>2.0</td>\n",
       "      <td>17.0</td>\n",
       "      <td>66.0</td>\n",
       "      <td>80.0</td>\n",
       "    </tr>\n",
       "    <tr>\n",
       "      <th>4</th>\n",
       "      <td>5</td>\n",
       "      <td>abdulma02</td>\n",
       "      <td>Mahmoud Abdul-Rauf</td>\n",
       "      <td>2001</td>\n",
       "      <td>99</td>\n",
       "      <td>390.0</td>\n",
       "      <td>112400.0</td>\n",
       "      <td>VAN</td>\n",
       "      <td>DET</td>\n",
       "      <td>AWAY</td>\n",
       "      <td>3</td>\n",
       "      <td>2:18</td>\n",
       "      <td>0.0</td>\n",
       "      <td>2.0</td>\n",
       "      <td>16.0</td>\n",
       "      <td>66.0</td>\n",
       "      <td>80.0</td>\n",
       "    </tr>\n",
       "  </tbody>\n",
       "</table>\n",
       "</div>"
      ],
      "text/plain": [
       "   x         id              player  season  top_px_location  leftpx_location  \\\n",
       "0  1  abdulma02  Mahmoud Abdul-Rauf    2001              250            304.0   \n",
       "1  2  abdulma02  Mahmoud Abdul-Rauf    2001              147            241.0   \n",
       "2  3  abdulma02  Mahmoud Abdul-Rauf    2001              132            403.0   \n",
       "3  4  abdulma02  Mahmoud Abdul-Rauf    2001              177            129.0   \n",
       "4  5  abdulma02  Mahmoud Abdul-Rauf    2001               99            390.0   \n",
       "\n",
       "       date team opponent location  quarter game_clock  \\\n",
       "0  110600.0  VAN      ATL     HOME        3    00:38.4   \n",
       "1  111800.0  VAN      DAL     HOME        2       9:22   \n",
       "2  112400.0  VAN      DET     AWAY        3       6:42   \n",
       "3  112400.0  VAN      DET     AWAY        3       2:42   \n",
       "4  112400.0  VAN      DET     AWAY        3       2:18   \n",
       "\n",
       "   outcome_1_if_made_0_otherwise  shotvalue  shotdistance_ft  team_score  \\\n",
       "0                            0.0        2.0             21.0        69.0   \n",
       "1                            1.0        2.0             10.0        33.0   \n",
       "2                            0.0        2.0             18.0        60.0   \n",
       "3                            0.0        2.0             17.0        66.0   \n",
       "4                            0.0        2.0             16.0        66.0   \n",
       "\n",
       "   opponentscore  \n",
       "0           55.0  \n",
       "1           26.0  \n",
       "2           78.0  \n",
       "3           80.0  \n",
       "4           80.0  "
      ]
     },
     "execution_count": 5,
     "metadata": {},
     "output_type": "execute_result"
    }
   ],
   "source": [
    "shots.head()"
   ]
  },
  {
   "cell_type": "code",
   "execution_count": 6,
   "id": "638b2b21",
   "metadata": {},
   "outputs": [
    {
     "name": "stdout",
     "output_type": "stream",
     "text": [
      "['x', 'id', 'player', 'season', 'top_px_location', 'leftpx_location', 'date', 'team', 'opponent', 'location', 'quarter', 'game_clock', 'outcome_1_if_made_0_otherwise', 'shotvalue', 'shotdistance_ft', 'team_score', 'opponentscore']\n"
     ]
    }
   ],
   "source": [
    "print([col for col in shots.columns if 'Unnamed' not in col ])"
   ]
  },
  {
   "cell_type": "markdown",
   "id": "9f2bc6f3",
   "metadata": {},
   "source": [
    "The info on this table makes up for a great facts table."
   ]
  },
  {
   "cell_type": "markdown",
   "id": "eccc6880",
   "metadata": {},
   "source": [
    "#### players_data and Players table"
   ]
  },
  {
   "cell_type": "code",
   "execution_count": 7,
   "id": "93efba7a",
   "metadata": {},
   "outputs": [
    {
     "data": {
      "text/html": [
       "<div>\n",
       "<style scoped>\n",
       "    .dataframe tbody tr th:only-of-type {\n",
       "        vertical-align: middle;\n",
       "    }\n",
       "\n",
       "    .dataframe tbody tr th {\n",
       "        vertical-align: top;\n",
       "    }\n",
       "\n",
       "    .dataframe thead th {\n",
       "        text-align: right;\n",
       "    }\n",
       "</style>\n",
       "<table border=\"1\" class=\"dataframe\">\n",
       "  <thead>\n",
       "    <tr style=\"text-align: right;\">\n",
       "      <th></th>\n",
       "      <th>name</th>\n",
       "      <th>year_start</th>\n",
       "      <th>year_end</th>\n",
       "      <th>position</th>\n",
       "      <th>height</th>\n",
       "      <th>weight</th>\n",
       "      <th>birth_date</th>\n",
       "      <th>college</th>\n",
       "    </tr>\n",
       "  </thead>\n",
       "  <tbody>\n",
       "    <tr>\n",
       "      <th>0</th>\n",
       "      <td>Alaa Abdelnaby</td>\n",
       "      <td>1991</td>\n",
       "      <td>1995</td>\n",
       "      <td>F-C</td>\n",
       "      <td>6-10</td>\n",
       "      <td>240</td>\n",
       "      <td>June 24, 1968</td>\n",
       "      <td>Duke University</td>\n",
       "    </tr>\n",
       "    <tr>\n",
       "      <th>1</th>\n",
       "      <td>Zaid Abdul-Aziz</td>\n",
       "      <td>1969</td>\n",
       "      <td>1978</td>\n",
       "      <td>C-F</td>\n",
       "      <td>6-9</td>\n",
       "      <td>235</td>\n",
       "      <td>April 7, 1946</td>\n",
       "      <td>Iowa State University</td>\n",
       "    </tr>\n",
       "    <tr>\n",
       "      <th>2</th>\n",
       "      <td>Kareem Abdul-Jabbar</td>\n",
       "      <td>1970</td>\n",
       "      <td>1989</td>\n",
       "      <td>C</td>\n",
       "      <td>7-2</td>\n",
       "      <td>225</td>\n",
       "      <td>April 16, 1947</td>\n",
       "      <td>University of California, Los Angeles</td>\n",
       "    </tr>\n",
       "    <tr>\n",
       "      <th>3</th>\n",
       "      <td>Mahmoud Abdul-Rauf</td>\n",
       "      <td>1991</td>\n",
       "      <td>2001</td>\n",
       "      <td>G</td>\n",
       "      <td>6-1</td>\n",
       "      <td>162</td>\n",
       "      <td>March 9, 1969</td>\n",
       "      <td>Louisiana State University</td>\n",
       "    </tr>\n",
       "    <tr>\n",
       "      <th>4</th>\n",
       "      <td>Tariq Abdul-Wahad</td>\n",
       "      <td>1998</td>\n",
       "      <td>2003</td>\n",
       "      <td>F</td>\n",
       "      <td>6-6</td>\n",
       "      <td>223</td>\n",
       "      <td>November 3, 1974</td>\n",
       "      <td>San Jose State University</td>\n",
       "    </tr>\n",
       "  </tbody>\n",
       "</table>\n",
       "</div>"
      ],
      "text/plain": [
       "                  name  year_start  year_end position height  weight  \\\n",
       "0       Alaa Abdelnaby        1991      1995      F-C   6-10     240   \n",
       "1      Zaid Abdul-Aziz        1969      1978      C-F    6-9     235   \n",
       "2  Kareem Abdul-Jabbar        1970      1989        C    7-2     225   \n",
       "3   Mahmoud Abdul-Rauf        1991      2001        G    6-1     162   \n",
       "4    Tariq Abdul-Wahad        1998      2003        F    6-6     223   \n",
       "\n",
       "         birth_date                                college  \n",
       "0     June 24, 1968                        Duke University  \n",
       "1     April 7, 1946                  Iowa State University  \n",
       "2    April 16, 1947  University of California, Los Angeles  \n",
       "3     March 9, 1969             Louisiana State University  \n",
       "4  November 3, 1974              San Jose State University  "
      ]
     },
     "execution_count": 7,
     "metadata": {},
     "output_type": "execute_result"
    }
   ],
   "source": [
    "player_data_1.head()"
   ]
  },
  {
   "cell_type": "code",
   "execution_count": 8,
   "id": "e9d5063f",
   "metadata": {},
   "outputs": [
    {
     "data": {
      "text/html": [
       "<div>\n",
       "<style scoped>\n",
       "    .dataframe tbody tr th:only-of-type {\n",
       "        vertical-align: middle;\n",
       "    }\n",
       "\n",
       "    .dataframe tbody tr th {\n",
       "        vertical-align: top;\n",
       "    }\n",
       "\n",
       "    .dataframe thead th {\n",
       "        text-align: right;\n",
       "    }\n",
       "</style>\n",
       "<table border=\"1\" class=\"dataframe\">\n",
       "  <thead>\n",
       "    <tr style=\"text-align: right;\">\n",
       "      <th></th>\n",
       "      <th>player</th>\n",
       "      <th>height</th>\n",
       "      <th>weight</th>\n",
       "      <th>collage</th>\n",
       "      <th>born</th>\n",
       "      <th>birth_city</th>\n",
       "      <th>birth_state</th>\n",
       "    </tr>\n",
       "  </thead>\n",
       "  <tbody>\n",
       "    <tr>\n",
       "      <th>0</th>\n",
       "      <td>Curly Armstrong</td>\n",
       "      <td>180.0</td>\n",
       "      <td>77.0</td>\n",
       "      <td>Indiana University</td>\n",
       "      <td>1918.0</td>\n",
       "      <td>NaN</td>\n",
       "      <td>NaN</td>\n",
       "    </tr>\n",
       "    <tr>\n",
       "      <th>1</th>\n",
       "      <td>Cliff Barker</td>\n",
       "      <td>188.0</td>\n",
       "      <td>83.0</td>\n",
       "      <td>University of Kentucky</td>\n",
       "      <td>1921.0</td>\n",
       "      <td>Yorktown</td>\n",
       "      <td>Indiana</td>\n",
       "    </tr>\n",
       "    <tr>\n",
       "      <th>2</th>\n",
       "      <td>Leo Barnhorst</td>\n",
       "      <td>193.0</td>\n",
       "      <td>86.0</td>\n",
       "      <td>University of Notre Dame</td>\n",
       "      <td>1924.0</td>\n",
       "      <td>NaN</td>\n",
       "      <td>NaN</td>\n",
       "    </tr>\n",
       "    <tr>\n",
       "      <th>3</th>\n",
       "      <td>Ed Bartels</td>\n",
       "      <td>196.0</td>\n",
       "      <td>88.0</td>\n",
       "      <td>North Carolina State University</td>\n",
       "      <td>1925.0</td>\n",
       "      <td>NaN</td>\n",
       "      <td>NaN</td>\n",
       "    </tr>\n",
       "    <tr>\n",
       "      <th>4</th>\n",
       "      <td>Ralph Beard</td>\n",
       "      <td>178.0</td>\n",
       "      <td>79.0</td>\n",
       "      <td>University of Kentucky</td>\n",
       "      <td>1927.0</td>\n",
       "      <td>Hardinsburg</td>\n",
       "      <td>Kentucky</td>\n",
       "    </tr>\n",
       "  </tbody>\n",
       "</table>\n",
       "</div>"
      ],
      "text/plain": [
       "            player  height  weight                          collage    born  \\\n",
       "0  Curly Armstrong   180.0    77.0               Indiana University  1918.0   \n",
       "1     Cliff Barker   188.0    83.0           University of Kentucky  1921.0   \n",
       "2    Leo Barnhorst   193.0    86.0         University of Notre Dame  1924.0   \n",
       "3       Ed Bartels   196.0    88.0  North Carolina State University  1925.0   \n",
       "4      Ralph Beard   178.0    79.0           University of Kentucky  1927.0   \n",
       "\n",
       "    birth_city birth_state  \n",
       "0          NaN         NaN  \n",
       "1     Yorktown     Indiana  \n",
       "2          NaN         NaN  \n",
       "3          NaN         NaN  \n",
       "4  Hardinsburg    Kentucky  "
      ]
     },
     "execution_count": 8,
     "metadata": {},
     "output_type": "execute_result"
    }
   ],
   "source": [
    "player_data_2.head()"
   ]
  },
  {
   "cell_type": "code",
   "execution_count": 9,
   "id": "47ba9845",
   "metadata": {},
   "outputs": [
    {
     "name": "stdout",
     "output_type": "stream",
     "text": [
      "['name', 'year_start', 'year_end', 'position', 'height', 'weight', 'birth_date', 'college']\n",
      "['player', 'height', 'weight', 'collage', 'born', 'birth_city', 'birth_state']\n"
     ]
    }
   ],
   "source": [
    "print([col for col in player_data_1.columns if 'Unnamed' not in col ])\n",
    "print([col for col in player_data_2.columns if 'Unnamed' not in col ])"
   ]
  },
  {
   "cell_type": "markdown",
   "id": "175de8cd",
   "metadata": {},
   "source": [
    "As you can notice, both tables contain similar data, so in the architecture we will make sure to combine this tables with their useful info."
   ]
  },
  {
   "cell_type": "markdown",
   "id": "f65c4e02",
   "metadata": {},
   "source": [
    "### Proposed Data Model"
   ]
  },
  {
   "cell_type": "markdown",
   "id": "ec27a695",
   "metadata": {},
   "source": [
    "Given the nature of the data, I am going to use a Star schema to create a RedshiftDB with 4 nodes. The idea is to host the player dimensions and the team dimensions on each node (distribution type ALL), and the shots fact table will be distributed across all 4 nodes. This will allow us to expand the database horizontally if needed, and also it will allow us to access the data faster since each node will contain the necessary information."
   ]
  },
  {
   "cell_type": "markdown",
   "id": "f348eb9a",
   "metadata": {},
   "source": [
    "![](data/images/star.png)"
   ]
  },
  {
   "cell_type": "markdown",
   "id": "3c7d862f",
   "metadata": {},
   "source": [
    "Note that the players table will extrapolate some info from the \"all_star\" original csv, in particular the nba_draft_status and the nationality of the player.  \n",
    "\n",
    "This architecture will let us extract and augment useful information regarding the shots made.\n",
    "Possible queries to answer:\n",
    "\n",
    "- Teams with the most cumulative points scored across seasons.\n",
    "- Players with the most cumulative points scored.\n",
    "- Players with the best 3 point scoring percentage.\n",
    "- Extract the colleges with the most cumulative player scores."
   ]
  },
  {
   "cell_type": "markdown",
   "id": "d00f6e90",
   "metadata": {},
   "source": [
    "### Proposed Pipeline"
   ]
  },
  {
   "cell_type": "markdown",
   "id": "9e70a868",
   "metadata": {},
   "source": [
    "![](data/images/nba.png)"
   ]
  },
  {
   "cell_type": "markdown",
   "id": "67f71d5d",
   "metadata": {},
   "source": [
    "### Interesting Queries"
   ]
  },
  {
   "cell_type": "markdown",
   "id": "8e172884",
   "metadata": {},
   "source": [
    "#### Teams with the most cumulative points across seasons."
   ]
  },
  {
   "cell_type": "code",
   "execution_count": 1,
   "id": "eed81806",
   "metadata": {},
   "outputs": [
    {
     "name": "stderr",
     "output_type": "stream",
     "text": [
      "UsageError: Line magic function `%sql` not found.\n"
     ]
    }
   ],
   "source": [
    "\"\"\"\n",
    "SELECT team, season, SUM(shot_value) AS cumulative_points\n",
    "FROM fact_shots \n",
    "WHERE\n",
    "    converted = TRUE\n",
    "GROUP BY(team, season)\n",
    "ORDER BY cumulative_points DESC;\n",
    "\"\"\""
   ]
  },
  {
   "cell_type": "markdown",
   "id": "8ba9370c",
   "metadata": {},
   "source": [
    "#### Players with most cumulative points scored"
   ]
  },
  {
   "cell_type": "code",
   "execution_count": 2,
   "id": "3fa2b347",
   "metadata": {},
   "outputs": [
    {
     "data": {
      "text/plain": [
       "'\\nSELECT player_id, SUM(shot_value) AS cumulative_points\\nFROM fact_shots \\nWHERE\\n    converted = TRUE\\nGROUP BY(player_id)\\nORDER BY cumulative_points DESC;\\n'"
      ]
     },
     "execution_count": 2,
     "metadata": {},
     "output_type": "execute_result"
    }
   ],
   "source": [
    "\"\"\"\n",
    "SELECT player_id, SUM(shot_value) AS cumulative_points\n",
    "FROM fact_shots \n",
    "WHERE\n",
    "    converted = TRUE\n",
    "GROUP BY(player_id)\n",
    "ORDER BY cumulative_points DESC;\n",
    "\"\"\""
   ]
  },
  {
   "cell_type": "markdown",
   "id": "8294d83e",
   "metadata": {},
   "source": [
    "#### Players with best 3 point score percentage"
   ]
  },
  {
   "cell_type": "code",
   "execution_count": 4,
   "id": "bbad9406",
   "metadata": {},
   "outputs": [
    {
     "data": {
      "text/plain": [
       "'\\nWITH total_3 AS (\\n    SELECT player_id, SUM(shot_value) AS t3 \\n    FROM fact_shots \\n    WHERE shot_value = 3 \\n    GROUP BY(player_id) \\n    ORDER BY t3 DESC\\n), made_3 AS (\\n    SELECT player_id, SUM(shot_value) AS m3 \\n    FROM fact_shots \\n    WHERE shot_value = 3 AND converted = TRUE \\n    GROUP BY(player_id) \\n    ORDER BY m3 DESC\\n)\\nSELECT made_3.player_id, made_3.m3, total_3.t3, (made_3.m3 / total_3.t3) AS percentage \\nFROM total_3, made_3 WHERE made_3.player_id = total_3.player_id\\nORDER BY percentage DESC;\\n'"
      ]
     },
     "execution_count": 4,
     "metadata": {},
     "output_type": "execute_result"
    }
   ],
   "source": [
    "\"\"\"\n",
    "WITH total_3 AS (\n",
    "    SELECT player_id, SUM(shot_value) AS t3 \n",
    "    FROM fact_shots \n",
    "    WHERE shot_value = 3 \n",
    "    GROUP BY(player_id) \n",
    "    ORDER BY t3 DESC\n",
    "), made_3 AS (\n",
    "    SELECT player_id, SUM(shot_value) AS m3 \n",
    "    FROM fact_shots \n",
    "    WHERE shot_value = 3 AND converted = TRUE \n",
    "    GROUP BY(player_id) \n",
    "    ORDER BY m3 DESC\n",
    ")\n",
    "SELECT made_3.player_id, made_3.m3, total_3.t3, (made_3.m3 / total_3.t3) AS percentage \n",
    "FROM total_3, made_3 WHERE made_3.player_id = total_3.player_id\n",
    "ORDER BY percentage DESC;\n",
    "\"\"\""
   ]
  },
  {
   "cell_type": "markdown",
   "id": "7b0560f2",
   "metadata": {},
   "source": [
    "#### Colleges with the most cumulative player scores"
   ]
  },
  {
   "cell_type": "code",
   "execution_count": 5,
   "id": "139af427",
   "metadata": {},
   "outputs": [
    {
     "data": {
      "text/plain": [
       "'\\nWITH made AS (\\n    SELECT player_id, SUM(shot_value) AS m \\n    FROM fact_shots \\n    WHERE converted = TRUE \\n    GROUP BY(player_id) \\n    ORDER BY m DESC\\n)\\nSELECT college, SUM(total_points_made) AS total_points_made_by_college \\nFROM\\n    (SELECT dp.player_name, dp.college, made.player_id, made.m AS total_points_made\\n    FROM made JOIN dimension_player dp ON made.player_id = dp.player_id)\\nGROUP BY college\\nORDER BY total_points_made_by_college DESC;\\n'"
      ]
     },
     "execution_count": 5,
     "metadata": {},
     "output_type": "execute_result"
    }
   ],
   "source": [
    "\"\"\"\n",
    "WITH made AS (\n",
    "    SELECT player_id, SUM(shot_value) AS m \n",
    "    FROM fact_shots \n",
    "    WHERE converted = TRUE \n",
    "    GROUP BY(player_id) \n",
    "    ORDER BY m DESC\n",
    ")\n",
    "SELECT college, SUM(total_points_made) AS total_points_made_by_college \n",
    "FROM\n",
    "    (SELECT dp.player_name, dp.college, made.player_id, made.m AS total_points_made\n",
    "    FROM made JOIN dimension_player dp ON made.player_id = dp.player_id)\n",
    "GROUP BY college\n",
    "ORDER BY total_points_made_by_college DESC;\n",
    "\"\"\""
   ]
  },
  {
   "cell_type": "code",
   "execution_count": null,
   "id": "0ca478a3",
   "metadata": {},
   "outputs": [],
   "source": []
  }
 ],
 "metadata": {
  "kernelspec": {
   "display_name": "Python 3 (ipykernel)",
   "language": "python",
   "name": "python3"
  },
  "language_info": {
   "codemirror_mode": {
    "name": "ipython",
    "version": 3
   },
   "file_extension": ".py",
   "mimetype": "text/x-python",
   "name": "python",
   "nbconvert_exporter": "python",
   "pygments_lexer": "ipython3",
   "version": "3.7.11"
  }
 },
 "nbformat": 4,
 "nbformat_minor": 5
}
